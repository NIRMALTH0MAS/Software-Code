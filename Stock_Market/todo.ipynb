{
 "cells": [
  {
   "cell_type": "code",
   "execution_count": 1,
   "metadata": {},
   "outputs": [],
   "source": [
    "import tkinter as tk\n",
    "\n",
    "class TodoApp(tk.Tk):\n",
    "    def __init__(self):\n",
    "        super().__init__()\n",
    "        self.title(\"Todo App\")\n",
    "        self.geometry(\"300x400\")\n",
    "\n",
    "        self.todos = []\n",
    "\n",
    "        self.label = tk.Label(self, text=\"New Todo:\")\n",
    "        self.label.pack(pady=(10, 0))\n",
    "\n",
    "        self.entry = tk.Entry(self)\n",
    "        self.entry.pack(pady=(0, 10))\n",
    "\n",
    "        self.add_button = tk.Button(self, text=\"Add\", command=self.add_todo)\n",
    "        self.add_button.pack()\n",
    "\n",
    "        self.todos_frame = tk.Frame(self)\n",
    "        self.todos_frame.pack()\n",
    "\n",
    "    def add_todo(self):\n",
    "        text = self.entry.get()\n",
    "        if not text:\n",
    "            return\n",
    "        self.todos.append(text)\n",
    "        self.add_todo_widget(text)\n",
    "        self.entry.delete(0, \"end\")\n",
    "\n",
    "    def add_todo_widget(self, text):\n",
    "        todo_widget = tk.Frame(self.todos_frame)\n",
    "        todo_widget.pack(pady=5)\n",
    "\n",
    "        label = tk.Label(todo_widget, text=text)\n",
    "        label.pack()\n",
    "\n",
    "        button = tk.Button(todo_widget, text=\"X\", command=todo_widget.destroy)\n",
    "        button.pack(side=\"right\")\n",
    "\n",
    "app = TodoApp()\n",
    "app.mainloop()"
   ]
  }
 ],
 "metadata": {
  "kernelspec": {
   "display_name": "Python 3.10.9 64-bit (microsoft store)",
   "language": "python",
   "name": "python3"
  },
  "language_info": {
   "codemirror_mode": {
    "name": "ipython",
    "version": 3
   },
   "file_extension": ".py",
   "mimetype": "text/x-python",
   "name": "python",
   "nbconvert_exporter": "python",
   "pygments_lexer": "ipython3",
   "version": "3.10.9"
  },
  "orig_nbformat": 4,
  "vscode": {
   "interpreter": {
    "hash": "40ea231ce006ed65b013ba3e9b5a48267321b4d32b910ea3a649228a606377c3"
   }
  }
 },
 "nbformat": 4,
 "nbformat_minor": 2
}
