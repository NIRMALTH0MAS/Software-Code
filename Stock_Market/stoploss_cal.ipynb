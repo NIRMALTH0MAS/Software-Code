{
 "cells": [
  {
   "cell_type": "code",
   "execution_count": 23,
   "metadata": {},
   "outputs": [],
   "source": [
    "crt_stk_pr = input(\"Enter the Current Price of the Stock :  \")\n",
    "stp_loss_per = input(\"Enter the stop loss percentage %  :  \")"
   ]
  },
  {
   "cell_type": "code",
   "execution_count": 24,
   "metadata": {},
   "outputs": [
    {
     "name": "stdout",
     "output_type": "stream",
     "text": [
      "Stoploss Price : 125\n",
      "Target 1 :  141\n",
      "Target 2 :  145\n",
      "Target 2 :  148\n"
     ]
    }
   ],
   "source": [
    "def stop_loss(price, stop_loss_percent):\n",
    "    stop_loss_price = int(price * (1 - stop_loss_percent/100))\n",
    "    return stop_loss_price\n",
    "\n",
    "def target(price, tar_percent):\n",
    "    print(\"Target 1 : \",int(price * (1 + (1.5*tar_percent)/100)))\n",
    "    print(\"Target 2 : \",int(price * (1 + (2*tar_percent)/100)))\n",
    "    print(\"Target 2 : \",int(price * (1 + (2.5*tar_percent)/100)))\n",
    "\n",
    "    return target_price\n",
    "\n",
    "# Example usage\n",
    "stop_loss_price = stop_loss(int(crt_stk_pr), int(stp_loss_per)) # Sets the stop loss price at 95\n",
    "print(f\"Stoploss Price : {stop_loss_price}\")\n",
    "target_price = target(int(crt_stk_pr), int(stp_loss_per))\n",
    "\n"
   ]
  }
 ],
 "metadata": {
  "kernelspec": {
   "display_name": "Python 3.10.9 64-bit (microsoft store)",
   "language": "python",
   "name": "python3"
  },
  "language_info": {
   "codemirror_mode": {
    "name": "ipython",
    "version": 3
   },
   "file_extension": ".py",
   "mimetype": "text/x-python",
   "name": "python",
   "nbconvert_exporter": "python",
   "pygments_lexer": "ipython3",
   "version": "3.10.9"
  },
  "orig_nbformat": 4,
  "vscode": {
   "interpreter": {
    "hash": "40ea231ce006ed65b013ba3e9b5a48267321b4d32b910ea3a649228a606377c3"
   }
  }
 },
 "nbformat": 4,
 "nbformat_minor": 2
}
