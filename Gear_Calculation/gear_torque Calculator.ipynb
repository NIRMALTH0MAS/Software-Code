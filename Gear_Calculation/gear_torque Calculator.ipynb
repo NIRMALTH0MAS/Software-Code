{
 "cells": [
  {
   "cell_type": "markdown",
   "metadata": {},
   "source": [
    "Import Headers"
   ]
  },
  {
   "cell_type": "code",
   "execution_count": 6,
   "metadata": {},
   "outputs": [],
   "source": [
    "from gear_torque_calc import get_torque\n",
    "import pprint\n",
    "pp = pprint.PrettyPrinter()"
   ]
  },
  {
   "cell_type": "code",
   "execution_count": 7,
   "metadata": {},
   "outputs": [],
   "source": [
    "# gear_type = input(\"Enter the Gear Type : \")\n",
    "# gear_module = input(\"Enter Gear module : \")\n",
    "drive_shaft_diameter = float(input (\"Enter the drive shaft Daimeter in millimeters : \"))\n",
    "drive_shaft_torque = float(input(\"Enter the Drive Torque or Motor Torque in Newton Meters : \"))\n",
    "gear_small_diameter = float(input(\"Enter the Pinion / Small Gear Diameter in millimeters : \"))\n",
    "gear_large_diameter = float(input(\"Enter the Drive / Large Gear Diameter in millimeters : \"))\n",
    "res = get_torque(drive_shaft_diameter, drive_shaft_torque, gear_small_diameter, gear_large_diameter)"
   ]
  },
  {
   "cell_type": "code",
   "execution_count": 8,
   "metadata": {},
   "outputs": [
    {
     "name": "stdout",
     "output_type": "stream",
     "text": [
      "{'gear_ratio': 2.0,\n",
      " 'large_gear': {'force': 1050.0, 'radius': 40.0, 'torque': 42.0},\n",
      " 'motor': {'force': 3500.0, 'torque': 21.0},\n",
      " 'small_gear': {'force': 1050.0, 'radius': 20.0, 'torque': 21.0}}\n"
     ]
    }
   ],
   "source": [
    "\n",
    "\n",
    "pp.pprint(res)"
   ]
  }
 ],
 "metadata": {
  "kernelspec": {
   "display_name": "Python 3.10.9 64-bit (microsoft store)",
   "language": "python",
   "name": "python3"
  },
  "language_info": {
   "codemirror_mode": {
    "name": "ipython",
    "version": 3
   },
   "file_extension": ".py",
   "mimetype": "text/x-python",
   "name": "python",
   "nbconvert_exporter": "python",
   "pygments_lexer": "ipython3",
   "version": "3.10.9"
  },
  "orig_nbformat": 4,
  "vscode": {
   "interpreter": {
    "hash": "40ea231ce006ed65b013ba3e9b5a48267321b4d32b910ea3a649228a606377c3"
   }
  }
 },
 "nbformat": 4,
 "nbformat_minor": 2
}
