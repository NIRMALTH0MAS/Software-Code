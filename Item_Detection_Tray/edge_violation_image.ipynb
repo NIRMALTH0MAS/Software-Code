{
 "cells": [
  {
   "cell_type": "code",
   "execution_count": null,
   "metadata": {},
   "outputs": [],
   "source": [
    "import cv2\n",
    "import numpy as np"
   ]
  },
  {
   "cell_type": "markdown",
   "metadata": {},
   "source": [
    "Load the image & Convert the image to grayscale and binary"
   ]
  },
  {
   "cell_type": "code",
   "execution_count": null,
   "metadata": {},
   "outputs": [],
   "source": [
    "\n",
    "img = cv2.imread('M1.jpg')\n",
    "print(img.shape)\n",
    "# img = cv2.resize(img, (320,320))\n",
    "# print(img.shape)\n",
    "gray = cv2.cvtColor(img, cv2.COLOR_BGR2GRAY)\n",
    "ret, binary = cv2.threshold(gray, 127, 255, cv2.THRESH_BINARY)\n",
    "print(binary.shape)"
   ]
  },
  {
   "cell_type": "markdown",
   "metadata": {},
   "source": [
    "Print the grayscale and binary matrix data"
   ]
  },
  {
   "cell_type": "code",
   "execution_count": null,
   "metadata": {},
   "outputs": [],
   "source": [
    "np.set_printoptions(threshold=np.inf)\n",
    "# print(\"Grayscale Matrix:\\n\", gray)\n",
    "print(\"Binary Matrix:\\n\", binary)"
   ]
  },
  {
   "cell_type": "markdown",
   "metadata": {},
   "source": [
    "Check for edge violation"
   ]
  },
  {
   "cell_type": "code",
   "execution_count": null,
   "metadata": {},
   "outputs": [],
   "source": [
    "top = 1\n",
    "bottom = 1\n",
    "left = 20\n",
    "right = 20\n",
    "# if np.any(binary[:top]) or np.any(binary[-bottom:]) or np.any(binary[:, :left]) or np.any(binary[:, -right:]):\n",
    "#     print(\"Edge violation\")\n",
    "# else:\n",
    "#     print(\"No edge violation\")\n",
    "\n",
    "if np.any(binary[:top]) :\n",
    "    print(\"T\")\n",
    "# elif np.any(binary[-bottom:]):\n",
    "#     print(\"B\")\n",
    "elif np.any(binary[:, :left]) :\n",
    "    print(\"L\")\n",
    "elif np.any(binary[:, -right:]):\n",
    "    print(\"Edge violation : R\")\n",
    "else:\n",
    "    print(\"No edge violation\")"
   ]
  },
  {
   "cell_type": "code",
   "execution_count": null,
   "metadata": {},
   "outputs": [],
   "source": [
    "# cv2.imshow('Object Detection', binary)"
   ]
  }
 ],
 "metadata": {
  "kernelspec": {
   "display_name": "Python 3.10.11 64-bit (microsoft store)",
   "language": "python",
   "name": "python3"
  },
  "language_info": {
   "codemirror_mode": {
    "name": "ipython",
    "version": 3
   },
   "file_extension": ".py",
   "mimetype": "text/x-python",
   "name": "python",
   "nbconvert_exporter": "python",
   "pygments_lexer": "ipython3",
   "version": "3.10.11"
  },
  "orig_nbformat": 4,
  "vscode": {
   "interpreter": {
    "hash": "40ea231ce006ed65b013ba3e9b5a48267321b4d32b910ea3a649228a606377c3"
   }
  }
 },
 "nbformat": 4,
 "nbformat_minor": 2
}
